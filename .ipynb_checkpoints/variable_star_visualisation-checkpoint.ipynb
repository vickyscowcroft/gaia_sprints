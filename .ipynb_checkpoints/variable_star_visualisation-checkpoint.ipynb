{
 "cells": [
  {
   "cell_type": "code",
   "execution_count": 119,
   "metadata": {
    "collapsed": false
   },
   "outputs": [],
   "source": [
    "%matplotlib inline\n",
    "import numpy as np\n",
    "import matplotlib.pyplot as mp\n",
    "import pandas as pd\n",
    "import seaborn as sns\n",
    "import sys\n",
    "import os\n",
    "sys.path.append('/Users/vs/Dropbox/Python')\n",
    "\n",
    "### From Gaia documentation to do command line requests to Gaia DR1 archive\n",
    "import httplib\n",
    "import urllib\n",
    "import time\n",
    "from xml.dom.minidom import parseString\n",
    "\n",
    "sns.set_style(\"white\")\n",
    "sns.set_context(\"paper\", font_scale=1.5, rc={\"lines.linewidth\": 2.0})\n",
    "sns.set_palette(sns.husl_palette(10, l=.4))\n",
    "colors = sns.color_palette()\n"
   ]
  },
  {
   "cell_type": "markdown",
   "metadata": {},
   "source": [
    "# variable_star_visualisation\n",
    "\n",
    "** \n",
    "Notebook to visualise variable star photometry from the Gaia DR1 data release**\n",
    "\n",
    "Vicky Scowcroft\n",
    "\n",
    "Last update: October 16th 2016\n"
   ]
  },
  {
   "cell_type": "code",
   "execution_count": 120,
   "metadata": {
    "collapsed": true
   },
   "outputs": [],
   "source": [
    "def run_gaia_query(adql_query, outputFileName):\n",
    "    host = \"gea.esac.esa.int\"\n",
    "    port = 80\n",
    "    pathinfo = \"/tap-server/tap/async\"\n",
    "    headers = {\"Content-type\": \"application/x-www-form-urlencoded\", \"Accept\":       \"text/plain\"}\n",
    "    params = urllib.urlencode({\"REQUEST\": \"doQuery\", \"LANG\": \"ADQL\", \"FORMAT\": \"csv\", \"PHASE\":  \"RUN\", \"QUERY\": adql_query})\n",
    "\n",
    "    connection = httplib.HTTPConnection(host, port)\n",
    "    connection.request(\"POST\",pathinfo,params,headers)\n",
    "\n",
    "    #Status\n",
    "    response = connection.getresponse()\n",
    "    print \"Status: \" +str(response.status), \"Reason: \" + str(response.reason)\n",
    "\n",
    "    #Server job location (URL)\n",
    "    location = response.getheader(\"location\")\n",
    "    print \"Location: \" + location\n",
    "\n",
    "    #Jobid\n",
    "    jobid = location[location.rfind('/')+1:]\n",
    "    print \"Job id: \" + jobid\n",
    "\n",
    "    connection.close()\n",
    "\n",
    "    #-------------------------------------\n",
    "    #Check job status, wait until finished\n",
    "\n",
    "    while True:\n",
    "        connection = httplib.HTTPConnection(host, port)\n",
    "        connection.request(\"GET\",pathinfo+\"/\"+jobid)\n",
    "        response = connection.getresponse()\n",
    "        data = response.read()\n",
    "        #XML response: parse it to obtain the current status\n",
    "        dom = parseString(data)\n",
    "        phaseElement = dom.getElementsByTagName('uws:phase')[0]\n",
    "        phaseValueElement = phaseElement.firstChild\n",
    "        phase = phaseValueElement.toxml()\n",
    "        print \"Status: \" + phase\n",
    "        #Check finished\n",
    "        if phase == 'COMPLETED': break\n",
    "        #wait and repeat\n",
    "        time.sleep(0.2)\n",
    "\n",
    "    #print \"Data:\"\n",
    "    #print data\n",
    "\n",
    "    connection.close()\n",
    "\n",
    "    #-------------------------------------\n",
    "    #Get results\n",
    "    connection = httplib.HTTPConnection(host, port)\n",
    "    connection.request(\"GET\",pathinfo+\"/\"+jobid+\"/results/result\")\n",
    "    response = connection.getresponse()\n",
    "    data = response.read()\n",
    "    outputFile = open(outputFileName, \"w\")\n",
    "    outputFile.write(data)\n",
    "    outputFile.close()\n",
    "    connection.close()\n",
    "    print \"Data saved in: \" + outputFileName\n",
    "    return(0)\n",
    "\n"
   ]
  },
  {
   "cell_type": "code",
   "execution_count": 121,
   "metadata": {
    "collapsed": false
   },
   "outputs": [
    {
     "name": "stdout",
     "output_type": "stream",
     "text": [
      "Status: 303 Reason: 303\n",
      "Location: http://gea.esac.esa.int/tap-server/tap/async/1476378622401O\n",
      "Job id: 1476378622401O\n",
      "Status: EXECUTING\n",
      "Status: EXECUTING\n",
      "Status: COMPLETED\n",
      "Data saved in: variable_stars.csv\n",
      "Status: 303 Reason: 303\n",
      "Location: http://gea.esac.esa.int/tap-server/tap/async/1476378623557O\n",
      "Job id: 1476378623557O\n",
      "Status: EXECUTING\n",
      "Status: EXECUTING\n",
      "Status: COMPLETED\n",
      "Data saved in: variable_stars_sourceinfo.csv\n"
     ]
    },
    {
     "data": {
      "text/plain": [
       "0"
      ]
     },
     "execution_count": 121,
     "metadata": {},
     "output_type": "execute_result"
    }
   ],
   "source": [
    "adql_query = \"SELECT * FROM gaiadr1.variable_summary WHERE source_id IN (SELECT source_id FROM gaiadr1.gaia_source WHERE (phot_variable_flag='VARIABLE'))\"\n",
    "run_gaia_query(adql_query, 'variable_stars.csv')\n",
    "\n",
    "adql_query = \"SELECT * FROM gaiadr1.gaia_source WHERE (phot_variable_flag='VARIABLE')\"\n",
    "run_gaia_query(adql_query, 'variable_stars_sourceinfo.csv')\n"
   ]
  },
  {
   "cell_type": "code",
   "execution_count": 122,
   "metadata": {
    "collapsed": true
   },
   "outputs": [],
   "source": [
    "variables_df = pd.read_csv('variable_stars.csv', header=0, sep=',')\n",
    "variables_extended = pd.read_csv('variable_stars_sourceinfo.csv', header=0, sep=',')\n",
    "\n",
    "variables_df = variables_df.merge(variables_extended, on='source_id')\n",
    "variables_df = variables_df.rename(columns={'solution_id_x':'solution_id_var', 'solution_id_y': 'solution_id_source'})\n",
    "variables_df['Period'] = variables_df.apply(lambda x: 1./x.phot_variable_fundam_freq1, axis=1)\n",
    "useful = ['source_id', 'classification', 'Period', 'ra', 'dec', 'l', 'b', 'parallax', 'parallax_error', 'phot_g_mean_mag']"
   ]
  },
  {
   "cell_type": "code",
   "execution_count": 143,
   "metadata": {
    "collapsed": false
   },
   "outputs": [
    {
     "name": "stdout",
     "output_type": "stream",
     "text": [
      "Status: 303 Reason: 303\n",
      "Location: http://gea.esac.esa.int/tap-server/tap/async/1476379425411O\n",
      "Job id: 1476379425411O\n",
      "Status: COMPLETED\n",
      "Data saved in: phot_files/4660192971073067392_phot.csv\n"
     ]
    }
   ],
   "source": [
    "### Now grab the photometry for one of these stars\n",
    "grabstar = np.random.randint(len(variables_df))\n",
    "star_id = variables_df.source_id[grabstar]\n",
    "\n",
    "adql_query = \"SELECT * FROM gaiadr1.phot_variable_time_series_gfov  WHERE (source_id={0})\".format(star_id)\n",
    "phot_filename = 'phot_files/' + str(star_id) + '_phot.csv'\n",
    "run_gaia_query(adql_query, phot_filename)\n",
    "\n",
    "period = variables_df.ix[variables_df.source_id==star_id, 'Period'].values[0]\n",
    "phot_df = pd.read_csv(phot_filename, header=0, sep=',')\n",
    "phot_df['BJD'] = phot_df.apply(lambda x: x.observation_time + 2455197.5, axis=1)\n",
    "phot_df['g_mag_err'] = phot_df.apply(lambda x: 1.086*x.g_flux_error/x.g_flux, axis=1)\n",
    "phot_df['Phase'] = phot_df.apply(lambda x: ((x.BJD/ period) - np.floor(x.BJD / period)), axis=1)\n"
   ]
  },
  {
   "cell_type": "code",
   "execution_count": 144,
   "metadata": {
    "collapsed": false
   },
   "outputs": [
    {
     "data": {
      "text/html": [
       "<div>\n",
       "<table border=\"1\" class=\"dataframe\">\n",
       "  <thead>\n",
       "    <tr style=\"text-align: right;\">\n",
       "      <th></th>\n",
       "      <th>source_id</th>\n",
       "      <th>classification</th>\n",
       "      <th>Period</th>\n",
       "      <th>ra</th>\n",
       "      <th>dec</th>\n",
       "      <th>l</th>\n",
       "      <th>b</th>\n",
       "      <th>parallax</th>\n",
       "      <th>parallax_error</th>\n",
       "      <th>phot_g_mean_mag</th>\n",
       "    </tr>\n",
       "  </thead>\n",
       "  <tbody>\n",
       "    <tr>\n",
       "      <th>2066</th>\n",
       "      <td>4660192971073067392</td>\n",
       "      <td>RRLYR</td>\n",
       "      <td>0.344242</td>\n",
       "      <td>81.503537</td>\n",
       "      <td>-67.186175</td>\n",
       "      <td>277.399163</td>\n",
       "      <td>-33.09148</td>\n",
       "      <td>NaN</td>\n",
       "      <td>NaN</td>\n",
       "      <td>19.105054</td>\n",
       "    </tr>\n",
       "  </tbody>\n",
       "</table>\n",
       "</div>"
      ],
      "text/plain": [
       "                source_id classification    Period         ra        dec  \\\n",
       "2066  4660192971073067392          RRLYR  0.344242  81.503537 -67.186175   \n",
       "\n",
       "               l         b  parallax  parallax_error  phot_g_mean_mag  \n",
       "2066  277.399163 -33.09148       NaN             NaN        19.105054  "
      ]
     },
     "execution_count": 144,
     "metadata": {},
     "output_type": "execute_result"
    },
    {
     "data": {
      "text/plain": [
       "<matplotlib.figure.Figure at 0x1153204d0>"
      ]
     },
     "metadata": {},
     "output_type": "display_data"
    },
    {
     "data": {
      "image/png": "[encoded data removed]",
      "text/plain": [
       "<matplotlib.figure.Figure at 0x1135466d0>"
      ]
     },
     "metadata": {},
     "output_type": "display_data"
    }
   ],
   "source": [
    "mp.clf()\n",
    "mp.figure(figsize=(10,5))\n",
    "mp.errorbar(np.concatenate((phot_df.Phase, phot_df.Phase + 1.0, phot_df.Phase + 2.0)) , np.concatenate((phot_df.g_magnitude, phot_df.g_magnitude, phot_df.g_magnitude)), yerr = np.concatenate((phot_df.g_mag_err, phot_df.g_mag_err, phot_df.g_mag_err)), ls='None',zorder=4, color=pointcols, label='_nolegend_')\n",
    "mp.plot(np.concatenate((phot_df.Phase, phot_df.Phase + 1.0, phot_df.Phase + 2.0)) , np.concatenate((phot_df.g_magnitude, phot_df.g_magnitude, phot_df.g_magnitude)), 'o', color=colors[0], ls='None', zorder=4, markeredgecolor='Grey', markeredgewidth=1, label='G')\n",
    "mp.gca().invert_yaxis()\n",
    "mp.xlabel('Phase ($\\phi$)')\n",
    "mp.ylabel('G Magnitude')\n",
    "titletext = 'ID = ' + str(star_id) + ', ' + str(np.around(period, decimals=4)) + 'd, ' + variables_df.ix[variables_df.source_id==star_id, 'classification'].values[0]\n",
    "mp.suptitle(titletext)\n",
    "variables_df.ix[variables_df.source_id==star_id, useful]"
   ]
  },
  {
   "cell_type": "code",
   "execution_count": null,
   "metadata": {
    "collapsed": true
   },
   "outputs": [],
   "source": []
  }
 ],
 "metadata": {
  "anaconda-cloud": {},
  "kernelspec": {
   "display_name": "Python [astroconda]",
   "language": "python",
   "name": "Python [astroconda]"
  },
  "language_info": {
   "codemirror_mode": {
    "name": "ipython",
    "version": 2
   },
   "file_extension": ".py",
   "mimetype": "text/x-python",
   "name": "python",
   "nbconvert_exporter": "python",
   "pygments_lexer": "ipython2",
   "version": "2.7.12"
  }
 },
 "nbformat": 4,
 "nbformat_minor": 0
}
